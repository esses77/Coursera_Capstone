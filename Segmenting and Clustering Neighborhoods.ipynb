{
 "cells": [
  {
   "cell_type": "markdown",
   "metadata": {},
   "source": [
    "# In this assignment, it is required to explore, segment, and cluster the neighborhoods in the city of Toronto"
   ]
  },
  {
   "cell_type": "markdown",
   "metadata": {},
   "source": [
    "## 1. For the Toronto neighborhood data, a Wikipedia page exists that has all the information needed to explore and cluster the neighborhoods in Toronto. It is required to scrape the Wikipedia page and wrangle the data, clean it, and then read it into a pandas dataframe so that it is in a structured format"
   ]
  },
  {
   "cell_type": "code",
   "execution_count": 1,
   "metadata": {},
   "outputs": [
    {
     "name": "stdout",
     "output_type": "stream",
     "text": [
      "INSTALLING Libraries required for Web Scraping...\n",
      "Requirement already satisfied: beautifulsoup4 in /Volumes/PhotoVideos/Temporary2ndHD/python/anaconda3/lib/python3.6/site-packages (4.7.1)\n",
      "Requirement already satisfied: soupsieve>=1.2 in /Volumes/PhotoVideos/Temporary2ndHD/python/anaconda3/lib/python3.6/site-packages (from beautifulsoup4) (1.9.2)\n",
      "Requirement already satisfied: lxml in /Volumes/PhotoVideos/Temporary2ndHD/python/anaconda3/lib/python3.6/site-packages (4.3.4)\n",
      "Requirement already satisfied: html5lib in /Volumes/PhotoVideos/Temporary2ndHD/python/anaconda3/lib/python3.6/site-packages (1.0.1)\n",
      "Requirement already satisfied: webencodings in /Volumes/PhotoVideos/Temporary2ndHD/python/anaconda3/lib/python3.6/site-packages (from html5lib) (0.5.1)\n",
      "Requirement already satisfied: six>=1.9 in /Volumes/PhotoVideos/Temporary2ndHD/python/anaconda3/lib/python3.6/site-packages (from html5lib) (1.12.0)\n",
      "Requirement already satisfied: requests in /Volumes/PhotoVideos/Temporary2ndHD/python/anaconda3/lib/python3.6/site-packages (2.22.0)\n",
      "Requirement already satisfied: certifi>=2017.4.17 in /Volumes/PhotoVideos/Temporary2ndHD/python/anaconda3/lib/python3.6/site-packages (from requests) (2019.6.16)\n",
      "Requirement already satisfied: chardet<3.1.0,>=3.0.2 in /Volumes/PhotoVideos/Temporary2ndHD/python/anaconda3/lib/python3.6/site-packages (from requests) (3.0.4)\n",
      "Requirement already satisfied: urllib3!=1.25.0,!=1.25.1,<1.26,>=1.21.1 in /Volumes/PhotoVideos/Temporary2ndHD/python/anaconda3/lib/python3.6/site-packages (from requests) (1.24.2)\n",
      "Requirement already satisfied: idna<2.9,>=2.5 in /Volumes/PhotoVideos/Temporary2ndHD/python/anaconda3/lib/python3.6/site-packages (from requests) (2.8)\n",
      "INSTALLING Libraries required for Web Scraping. DONE.\n"
     ]
    }
   ],
   "source": [
    "#install the components required for web pages scraping\n",
    "print(\"INSTALLING Libraries required for Web Scraping...\")\n",
    "!pip install beautifulsoup4\n",
    "!pip install lxml\n",
    "!pip install html5lib\n",
    "!pip install requests\n",
    "print(\"INSTALLING Libraries required for Web Scraping. DONE.\")"
   ]
  },
  {
   "cell_type": "code",
   "execution_count": 2,
   "metadata": {},
   "outputs": [],
   "source": [
    "#import the components required for web pages scraping and dataframe creation\n",
    "from bs4 import BeautifulSoup\n",
    "import requests\n",
    "import pandas as pd"
   ]
  },
  {
   "cell_type": "code",
   "execution_count": 19,
   "metadata": {},
   "outputs": [],
   "source": [
    "#get the source web page\n",
    "source_url = 'https://en.wikipedia.org/wiki/List_of_postal_codes_of_Canada:_M'\n",
    "source = requests.get(source_url).text\n",
    "\n",
    "#load it in the scraping component\n",
    "soup = BeautifulSoup(source, 'lxml')\n",
    "\n",
    "#get the html element containing the needed informations\n",
    "data_table = soup.find('table', class_='wikitable sortable')\n",
    "#print(data_table.prettify())"
   ]
  },
  {
   "cell_type": "markdown",
   "metadata": {},
   "source": [
    "The html element will be parsed for creating a pandas dataframe that:\n",
    "* consists of three columns: PostalCode, Borough, and Neighborhood\n",
    "* doesn't contain html element cells with a borough that is Not assigned\n",
    "* if a cell has a borough but a Not assigned neighborhood, then contains a row with the neighborhood equal\n",
    "  to the borough\n",
    "* contains neighborhoods separated with a comma (in the same row in the Neighborhood column) \n",
    "  when more than one neighborhood exists in one postal code area"
   ]
  },
  {
   "cell_type": "code",
   "execution_count": 18,
   "metadata": {
    "scrolled": true
   },
   "outputs": [
    {
     "name": "stdout",
     "output_type": "stream",
     "text": [
      "   PostalCode      Borough                                       Neighborhood\n",
      "0         M1B  Scarborough                                      Rouge,Malvern\n",
      "1         M1C  Scarborough               Highland Creek,Rouge Hill,Port Union\n",
      "2         M1E  Scarborough                    Guildwood,Morningside,West Hill\n",
      "3         M1G  Scarborough                                             Woburn\n",
      "4         M1H  Scarborough                                          Cedarbrae\n",
      "5         M1J  Scarborough                                Scarborough Village\n",
      "6         M1K  Scarborough          East Birchmount Park,Ionview,Kennedy Park\n",
      "7         M1L  Scarborough                      Clairlea,Golden Mile,Oakridge\n",
      "8         M1M  Scarborough      Cliffcrest,Cliffside,Scarborough Village West\n",
      "9         M1N  Scarborough                         Birch Cliff,Cliffside West\n",
      "10        M1P  Scarborough  Dorset Park,Scarborough Town Centre,Wexford He...\n",
      "11        M1R  Scarborough                                   Maryvale,Wexford\n"
     ]
    },
    {
     "data": {
      "text/plain": [
       "(103, 3)"
      ]
     },
     "execution_count": 18,
     "metadata": {},
     "output_type": "execute_result"
    }
   ],
   "source": [
    "#creating empty dataframe\n",
    "columns = ['PostalCode', 'Borough', 'Neighborhood']\n",
    "neighborhoods_df = pd.DataFrame(columns = columns)\n",
    "\n",
    "#get a list of the needed informations from the parsed html element\n",
    "data_table_rows = data_table.tbody.find_all('tr')\n",
    "\n",
    "#fill in the dataframe\n",
    "for data_table_row in data_table_rows[1:]:\n",
    "    data_table_row_columns = data_table_row.find_all('td')\n",
    "    \n",
    "    postal_code = data_table_row_columns[0].text\n",
    "    borough = data_table_row_columns[1].text\n",
    "    neighborhood = data_table_row_columns[2].text\n",
    "    \n",
    "    if borough == 'Not assigned':\n",
    "        continue\n",
    "    if neighborhood == 'Not assigned':\n",
    "        neighborhood = borough\n",
    "        \n",
    "    dataframe_row = {'PostalCode': postal_code.strip(), 'Borough': borough.strip(), 'Neighborhood': neighborhood.strip()}\n",
    "    neighborhoods_df = neighborhoods_df.append(dataframe_row, ignore_index = True)\n",
    "\n",
    "#put the nighborhoods with the same postal code in the same row\n",
    "#separated by commas\n",
    "neighborhoods_df_final = neighborhoods_df.groupby(['PostalCode', 'Borough'])['Neighborhood'].apply(','.join).reset_index()\n",
    "print(neighborhoods_df_final.head(12))\n",
    "neighborhoods_df_final.shape"
   ]
  },
  {
   "cell_type": "markdown",
   "metadata": {},
   "source": [
    "## 2. Now a dataframe of the postal code of each neighborhood along with the borough name and neighborhood name has been built. In order to utilize the Foursquare location data, it is needed to get the latitude and the longitude coordinates of each neighborhood."
   ]
  },
  {
   "cell_type": "code",
   "execution_count": null,
   "metadata": {},
   "outputs": [],
   "source": []
  },
  {
   "cell_type": "markdown",
   "metadata": {},
   "source": [
    "## 3. Explore and cluster the neighborhoods in Toronto"
   ]
  },
  {
   "cell_type": "code",
   "execution_count": null,
   "metadata": {},
   "outputs": [],
   "source": []
  }
 ],
 "metadata": {
  "kernelspec": {
   "display_name": "Python 3",
   "language": "python",
   "name": "python3"
  },
  "language_info": {
   "codemirror_mode": {
    "name": "ipython",
    "version": 3
   },
   "file_extension": ".py",
   "mimetype": "text/x-python",
   "name": "python",
   "nbconvert_exporter": "python",
   "pygments_lexer": "ipython3",
   "version": "3.6.9"
  }
 },
 "nbformat": 4,
 "nbformat_minor": 2
}
